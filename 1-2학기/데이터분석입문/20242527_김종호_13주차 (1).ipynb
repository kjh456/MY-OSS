{
 "cells": [
  {
   "cell_type": "code",
   "execution_count": 1,
   "metadata": {},
   "outputs": [
    {
     "name": "stdout",
     "output_type": "stream",
     "text": [
      "Collecting numpy\n",
      "  Downloading numpy-2.1.3-cp312-cp312-win_amd64.whl.metadata (60 kB)\n",
      "     ---------------------------------------- 0.0/60.8 kB ? eta -:--:--\n",
      "     ---------------------------------------- 60.8/60.8 kB 1.1 MB/s eta 0:00:00\n",
      "Downloading numpy-2.1.3-cp312-cp312-win_amd64.whl (12.6 MB)\n",
      "   ---------------------------------------- 0.0/12.6 MB ? eta -:--:--\n",
      "   - -------------------------------------- 0.6/12.6 MB 12.0 MB/s eta 0:00:02\n",
      "   ----- ---------------------------------- 1.6/12.6 MB 17.1 MB/s eta 0:00:01\n",
      "   ------- -------------------------------- 2.5/12.6 MB 17.6 MB/s eta 0:00:01\n",
      "   --------- ------------------------------ 3.0/12.6 MB 16.0 MB/s eta 0:00:01\n",
      "   ------------ --------------------------- 4.1/12.6 MB 17.3 MB/s eta 0:00:01\n",
      "   ---------------- ----------------------- 5.2/12.6 MB 18.3 MB/s eta 0:00:01\n",
      "   ------------------- -------------------- 6.0/12.6 MB 18.3 MB/s eta 0:00:01\n",
      "   ----------------------- ---------------- 7.3/12.6 MB 19.4 MB/s eta 0:00:01\n",
      "   -------------------------- ------------- 8.2/12.6 MB 20.1 MB/s eta 0:00:01\n",
      "   ----------------------------- ---------- 9.3/12.6 MB 20.5 MB/s eta 0:00:01\n",
      "   ----------------------------------- ---- 11.0/12.6 MB 23.4 MB/s eta 0:00:01\n",
      "   ---------------------------------------  12.5/12.6 MB 24.2 MB/s eta 0:00:01\n",
      "   ---------------------------------------- 12.6/12.6 MB 23.4 MB/s eta 0:00:00\n",
      "Installing collected packages: numpy\n",
      "Successfully installed numpy-2.1.3\n",
      "Note: you may need to restart the kernel to use updated packages.\n"
     ]
    },
    {
     "name": "stderr",
     "output_type": "stream",
     "text": [
      "\n",
      "[notice] A new release of pip is available: 24.0 -> 24.3.1\n",
      "[notice] To update, run: python.exe -m pip install --upgrade pip\n"
     ]
    }
   ],
   "source": [
    "pip install numpy\n"
   ]
  },
  {
   "cell_type": "code",
   "execution_count": 2,
   "metadata": {},
   "outputs": [
    {
     "name": "stdout",
     "output_type": "stream",
     "text": [
      "Note: you may need to restart the kernel to use updated packages.\n"
     ]
    },
    {
     "name": "stderr",
     "output_type": "stream",
     "text": [
      "ERROR: Could not find a version that satisfies the requirement csv (from versions: none)\n",
      "ERROR: No matching distribution found for csv\n",
      "\n",
      "[notice] A new release of pip is available: 24.0 -> 24.3.1\n",
      "[notice] To update, run: python.exe -m pip install --upgrade pip\n"
     ]
    }
   ],
   "source": [
    "pip install csv"
   ]
  },
  {
   "cell_type": "code",
   "execution_count": 8,
   "metadata": {},
   "outputs": [
    {
     "ename": "UnicodeDecodeError",
     "evalue": "'cp949' codec can't decode byte 0xbd in position 4476: illegal multibyte sequence",
     "output_type": "error",
     "traceback": [
      "\u001b[1;31m---------------------------------------------------------------------------\u001b[0m",
      "\u001b[1;31mUnicodeDecodeError\u001b[0m                        Traceback (most recent call last)",
      "Cell \u001b[1;32mIn[8], line 5\u001b[0m\n\u001b[0;32m      3\u001b[0m f \u001b[38;5;241m=\u001b[39m \u001b[38;5;28mopen\u001b[39m(\u001b[38;5;124m'\u001b[39m\u001b[38;5;124msubwaytime.csv\u001b[39m\u001b[38;5;124m'\u001b[39m ,  encoding\u001b[38;5;241m=\u001b[39m\u001b[38;5;124m'\u001b[39m\u001b[38;5;124mcp949\u001b[39m\u001b[38;5;124m'\u001b[39m)\n\u001b[0;32m      4\u001b[0m data \u001b[38;5;241m=\u001b[39m csv\u001b[38;5;241m.\u001b[39mreader(f)\n\u001b[1;32m----> 5\u001b[0m header \u001b[38;5;241m=\u001b[39m \u001b[38;5;28;43mnext\u001b[39;49m\u001b[43m(\u001b[49m\u001b[43mdata\u001b[49m\u001b[43m)\u001b[49m\n\u001b[0;32m      6\u001b[0m \u001b[38;5;28mnext\u001b[39m(data)\n\u001b[0;32m      8\u001b[0m max_people \u001b[38;5;241m=\u001b[39m \u001b[38;5;241m0\u001b[39m\n",
      "\u001b[1;31mUnicodeDecodeError\u001b[0m: 'cp949' codec can't decode byte 0xbd in position 4476: illegal multibyte sequence"
     ]
    }
   ],
   "source": [
    "import csv \n",
    "\n",
    "f = open('subwaytime.csv' ,  encoding='cp949')\n",
    "data = csv.reader(f)\n",
    "header = next(data)\n",
    "next(data)\n",
    "\n",
    "max_people = 0\n",
    "max_station = ''\n",
    "t = int(input('몇 시의 승차 인원이 가장 많은 역이 궁금하세요? :'))\n",
    "\n",
    "for row in data:\n",
    "    for i in range(4,52):\n",
    "        row[i] = row[i].replace(',',\"\")\n",
    "        \n",
    "    row[4:] = map(int, row[4:])\n",
    "    people = row[2 * t - 4]\n",
    "    if people > max_people:\n",
    "        max_people = people\n",
    "        max_station =row[3] + '(' + row[1] + ')'\n",
    "        \n",
    "f.close()\n",
    "\n",
    "print(max_station, ':', max_people, '명')\n",
    "    "
   ]
  },
  {
   "cell_type": "code",
   "execution_count": null,
   "metadata": {},
   "outputs": [],
   "source": [
    "import csv \n",
    "\n",
    "f = open('subwaytime.csv' ,  encoding='cp949')\n",
    "data = csv.reader(f)\n",
    "header = next(data)\n",
    "next(data)\n",
    "\n",
    "max_people = [0] * 24\n",
    "max_station = [''] * 24\n",
    "\n",
    "for row in data:\n",
    "    for i in range(4,52):\n",
    "        row[i] = row[i].replace(',',\"\")\n",
    "        \n",
    "    row[4:] = map(int, row[4:])\n",
    "    for j in range(24):\n",
    "        people = row[2 * j + 4]\n",
    "        if people > max_people:\n",
    "            max_people = people\n",
    "            max_station =row[3] + '(' + row[1] + ')'\n",
    "        \n",
    "f.close()\n",
    "\n",
    "print(max_station)\n",
    "print(max_people)\n",
    "    "
   ]
  },
  {
   "cell_type": "code",
   "execution_count": null,
   "metadata": {},
   "outputs": [],
   "source": [
    "import csv \n",
    "import matplotlib.pyplot as plt\n",
    "\n",
    "f = open('subwaytime.csv' ,  encoding='cp949')\n",
    "data = csv.reader(f)\n",
    "header = next(data)\n",
    "next(data)\n",
    "\n",
    "max_people = [0] * 24\n",
    "max_station = [''] * 24\n",
    "\n",
    "for row in data:\n",
    "    for i in range(4,52):\n",
    "        row[i] = row[i].replace(',',\"\")\n",
    "        \n",
    "    row[4:] = map(int, row[4:])\n",
    "    for j in range(24):\n",
    "        people = row[2 * j + 4]\n",
    "        if people > max_people[j]:\n",
    "            max_people[j] = people\n",
    "            max_station[j] =row[3] \n",
    "        \n",
    "f.close()\n",
    "\n",
    "plt.rc('font', family='Malgun Gothic')\n",
    "plt.bar(range(24), max_people)\n",
    "plt.xticks(range(24), max_station, rotation=90)\n",
    "plt.grid(True)\n",
    "plt.show()"
   ]
  },
  {
   "cell_type": "code",
   "execution_count": 5,
   "metadata": {},
   "outputs": [
    {
     "ename": "ModuleNotFoundError",
     "evalue": "No module named 'matplotlib'",
     "output_type": "error",
     "traceback": [
      "\u001b[1;31m---------------------------------------------------------------------------\u001b[0m",
      "\u001b[1;31mModuleNotFoundError\u001b[0m                       Traceback (most recent call last)",
      "Cell \u001b[1;32mIn[5], line 2\u001b[0m\n\u001b[0;32m      1\u001b[0m \u001b[38;5;28;01mimport\u001b[39;00m \u001b[38;5;21;01mcsv\u001b[39;00m \n\u001b[1;32m----> 2\u001b[0m \u001b[38;5;28;01mimport\u001b[39;00m \u001b[38;5;21;01mmatplotlib\u001b[39;00m\u001b[38;5;21;01m.\u001b[39;00m\u001b[38;5;21;01mpyplot\u001b[39;00m \u001b[38;5;28;01mas\u001b[39;00m \u001b[38;5;21;01mplt\u001b[39;00m\n\u001b[0;32m      4\u001b[0m f \u001b[38;5;241m=\u001b[39m \u001b[38;5;28mopen\u001b[39m(\u001b[38;5;124m'\u001b[39m\u001b[38;5;124msubwaytime.csv\u001b[39m\u001b[38;5;124m'\u001b[39m ,  encoding\u001b[38;5;241m=\u001b[39m\u001b[38;5;124m'\u001b[39m\u001b[38;5;124mcp949\u001b[39m\u001b[38;5;124m'\u001b[39m)\n\u001b[0;32m      5\u001b[0m data \u001b[38;5;241m=\u001b[39m csv\u001b[38;5;241m.\u001b[39mreader(f)\n",
      "\u001b[1;31mModuleNotFoundError\u001b[0m: No module named 'matplotlib'"
     ]
    }
   ],
   "source": [
    "import csv \n",
    "import matplotlib.pyplot as plt\n",
    "\n",
    "f = open('subwaytime.csv' ,  encoding='cp949')\n",
    "data = csv.reader(f)\n",
    "header = next(data)\n",
    "next(data)\n",
    "\n",
    "max_people = [0] * 24\n",
    "max_station = [''] * 24\n",
    "\n",
    "for row in data:\n",
    "    for i in range(4,52):\n",
    "        row[i] = row[i].replace(',',\"\")\n",
    "        \n",
    "    row[4:] = map(int, row[4:])\n",
    "    for j in range(24):\n",
    "        people = row[2 * j + 4]\n",
    "        if people > max_people[j]:\n",
    "            max_people[j] = people\n",
    "            max_station[j] =row[3] + '(' + str(j + 4 ) + ')'\n",
    "        \n",
    "f.close()\n",
    "\n",
    "plt.rc('font', family='Malgun Gothic')\n",
    "plt.bar(range(24), max_people)\n",
    "plt.xticks(range(24), max_station, rotation=90)\n",
    "plt.grid(True)\n",
    "plt.show()"
   ]
  },
  {
   "cell_type": "code",
   "execution_count": null,
   "metadata": {},
   "outputs": [],
   "source": [
    "import csv \n",
    "import matplotlib.pyplot as plt\n",
    "\n",
    "f = open('subwaytime.csv' ,  encoding='cp949')\n",
    "data = csv.reader(f)\n",
    "header = next(data)\n",
    "next(data)\n",
    "\n",
    "max_people = [0] * 24\n",
    "max_station = [''] * 24\n",
    "\n",
    "for row in data:\n",
    "    for i in range(4,52):\n",
    "        row[i] = row[i].replace(',',\"\")\n",
    "        \n",
    "    row[4:] = map(int, row[4:])\n",
    "    for j in range(24):\n",
    "        people = row[2 * j + 4]\n",
    "        if people > max_people[j]:\n",
    "            max_people[j] = people\n",
    "            max_station[j] =row[3] + f'({str(j + 4 ) % 24})'\n",
    "        \n",
    "f.close()\n",
    "\n",
    "plt.rc('font', family='Malgun Gothic')\n",
    "plt.bar(range(24), max_people)\n",
    "plt.xticks(range(24), max_station, rotation=90)\n",
    "plt.grid(True)\n",
    "plt.show()"
   ]
  },
  {
   "cell_type": "code",
   "execution_count": null,
   "metadata": {},
   "outputs": [],
   "source": [
    "import csv \n",
    "import matplotlib.pyplot as plt\n",
    "\n",
    "f = open('subwaytime.csv' ,  encoding='cp949')\n",
    "data = csv.reader(f)\n",
    "header = next(data)\n",
    "next(data)\n",
    "\n",
    "max_people = [0] * 24\n",
    "max_station = [''] * 24\n",
    "\n",
    "for row in data:\n",
    "    for i in range(4,52):\n",
    "        row[i] = row[i].replace(',','')\n",
    "        \n",
    "    row[4:] = map(int, row[4:])\n",
    "    for j in range(24):\n",
    "        people = row[2 * j + 5]\n",
    "        if people > max_people[j]:\n",
    "            max_people[j] = people\n",
    "            max_station[j] =row[3] + f'({str(j + 4 ) % 24})'\n",
    "        \n",
    "f.close()\n",
    "\n",
    "plt.rc('font', family='Malgun Gothic')\n",
    "plt.bar(range(24), max_people)\n",
    "plt.xticks(range(24), max_station, rotation=90)\n",
    "plt.grid(True)\n",
    "plt.show()"
   ]
  },
  {
   "cell_type": "code",
   "execution_count": null,
   "metadata": {},
   "outputs": [],
   "source": [
    "import csv\n",
    "\n",
    "f = open('subwaytime.csv',  encoding='cp949')\n",
    "data = csv.reader(f)\n",
    "\n",
    "header = next(data)\n",
    "next(data)\n",
    "\n",
    "s_in = [0] * 24\n",
    "s_out = [0] * 24\n",
    "\n",
    "for row in data:\n",
    "    for i in range(4, 52):\n",
    "        row[i] = row[i].replace(',',\"\")\n",
    "        \n",
    "    row[4:] = map(int, row[4:])\n",
    "    for i in range(24):\n",
    "        s_in[i] = s_in[i] + row[2 * i + 4]\n",
    "        s_out[i] = s_out[i] + row[2 * i + 5]\n",
    "        \n",
    "f.close()"
   ]
  },
  {
   "cell_type": "code",
   "execution_count": null,
   "metadata": {},
   "outputs": [],
   "source": [
    "import csv\n",
    "import matplotlib.pyplot as plt\n",
    "\n",
    "f = open('subwaytime.csv',  encoding='cp949')\n",
    "data = csv.reader(f)\n",
    "\n",
    "header = next(data)\n",
    "next(data)\n",
    "\n",
    "s_in = [0] * 24\n",
    "s_out = [0] * 24\n",
    "\n",
    "for row in data:\n",
    "    for i in range(4, 52):\n",
    "        row[i] = row[i].replace(',',\"\")\n",
    "        \n",
    "    row[4:] = map(int, row[4:])\n",
    "    for i in range(24):\n",
    "        s_in[i] = s_in[i] + row[2 * i + 4]\n",
    "        s_out[i] = s_out[i] + row[2 * i + 5]\n",
    "        \n",
    "f.close()\n",
    "\n",
    "plt.rc('font', family='Malgun Gothic')\n",
    "plt.title('지하철 시간대별 승하차 인원 추이')\n",
    "plt.plot(s_in, label='승차')\n",
    "plt.plot(s_out, label='하차')\n",
    "plt.legend()\n",
    "plt.grid(True)\n",
    "plt.xticks(range(24), range(4,28))\n",
    "plt.show()"
   ]
  },
  {
   "cell_type": "code",
   "execution_count": 10,
   "metadata": {},
   "outputs": [
    {
     "name": "stdout",
     "output_type": "stream",
     "text": [
      "[0, 0, 0, 0]\n",
      "[0, 0, 0, 0]\n",
      "[0, 0, 0, 0]\n",
      "[0, 0, 0, 0]\n"
     ]
    }
   ],
   "source": [
    "max_people = [0,0,0,0]\n",
    "print(max_people)\n",
    "\n",
    "max_people = [0] * 4\n",
    "print(max_people)\n",
    "\n",
    "max_people = []\n",
    "for i in range(4):\n",
    "    max_people.append(0)\n",
    "print(max_people)\n",
    "\n",
    "max_people = [0 for _ in range(4)]\n",
    "print(max_people)"
   ]
  },
  {
   "cell_type": "code",
   "execution_count": 12,
   "metadata": {},
   "outputs": [
    {
     "name": "stdout",
     "output_type": "stream",
     "text": [
      "['', '', '', '']\n",
      "['', '', '', '']\n",
      "['', '', '', '']\n",
      "['', '', '', '']\n"
     ]
    }
   ],
   "source": [
    "max_station = ['','','','']\n",
    "print(max_station)\n",
    "\n",
    "max_station = [''] * 4\n",
    "print(max_station)\n",
    "\n",
    "max_station = []\n",
    "for i in range(4):\n",
    "    max_station.append('')\n",
    "print(max_station)\n",
    "\n",
    "max_station = ['' for _ in range(4)]\n",
    "print(max_station)"
   ]
  },
  {
   "cell_type": "code",
   "execution_count": 13,
   "metadata": {},
   "outputs": [
    {
     "ename": "UnicodeDecodeError",
     "evalue": "'cp949' codec can't decode byte 0xbd in position 834: illegal multibyte sequence",
     "output_type": "error",
     "traceback": [
      "\u001b[1;31m---------------------------------------------------------------------------\u001b[0m",
      "\u001b[1;31mUnicodeDecodeError\u001b[0m                        Traceback (most recent call last)",
      "Cell \u001b[1;32mIn[13], line 5\u001b[0m\n\u001b[0;32m      2\u001b[0m f \u001b[38;5;241m=\u001b[39m \u001b[38;5;28mopen\u001b[39m(\u001b[38;5;124m'\u001b[39m\u001b[38;5;124msubwayfee.csv\u001b[39m\u001b[38;5;124m'\u001b[39m, encoding\u001b[38;5;241m=\u001b[39m\u001b[38;5;124m'\u001b[39m\u001b[38;5;124mcp949\u001b[39m\u001b[38;5;124m'\u001b[39m)\n\u001b[0;32m      3\u001b[0m data \u001b[38;5;241m=\u001b[39m csv\u001b[38;5;241m.\u001b[39mreader(f)\n\u001b[1;32m----> 5\u001b[0m header \u001b[38;5;241m=\u001b[39m \u001b[38;5;28;43mnext\u001b[39;49m\u001b[43m(\u001b[49m\u001b[43mdata\u001b[49m\u001b[43m)\u001b[49m\n\u001b[0;32m      7\u001b[0m max_station \u001b[38;5;241m=\u001b[39m [\u001b[38;5;124m'\u001b[39m\u001b[38;5;124m'\u001b[39m \u001b[38;5;28;01mfor\u001b[39;00m _ \u001b[38;5;129;01min\u001b[39;00m \u001b[38;5;28mrange\u001b[39m(\u001b[38;5;241m4\u001b[39m)]\n\u001b[0;32m      8\u001b[0m max_people \u001b[38;5;241m=\u001b[39m [\u001b[38;5;241m0\u001b[39m \u001b[38;5;28;01mfor\u001b[39;00m _ \u001b[38;5;129;01min\u001b[39;00m \u001b[38;5;28mrange\u001b[39m(\u001b[38;5;241m4\u001b[39m)]\n",
      "\u001b[1;31mUnicodeDecodeError\u001b[0m: 'cp949' codec can't decode byte 0xbd in position 834: illegal multibyte sequence"
     ]
    }
   ],
   "source": [
    "import csv\n",
    "f = open('subwayfee.csv', encoding='cp949')\n",
    "data = csv.reader(f)\n",
    "\n",
    "header = next(data)\n",
    "\n",
    "max_station = ['' for _ in range(4)]\n",
    "max_people = [0 for _ in range(4)]\n",
    "\n",
    "label = ['유임승차', '유임하차','무임승차','무임하차']\n",
    "\n",
    "for row in data:\n",
    "    for i in range(4,8):\n",
    "        row[i] =int(row[i].replace(',',''))\n",
    "        if row[i] > max_people[i-4] :\n",
    "            max_people[i-4] = row[i]\n",
    "            max_station[i-4] = row[3] + ' ' + row[1]\n",
    "            \n",
    "f.close()\n",
    "\n",
    "for i in range(4):\n",
    "    print(f'{label[i]}: {max_station[i]}, {max_people[i]} 명')"
   ]
  },
  {
   "cell_type": "code",
   "execution_count": null,
   "metadata": {},
   "outputs": [],
   "source": [
    "import csv\n",
    "import matplotlib.pyplot as plt\n",
    "\n",
    "f = open('subwayfee.csv', encoding='cp949')\n",
    "data = csv.reader(f)\n",
    "\n",
    "header = next(data)\n",
    "\n",
    "max_station = ['' for _ in range(4)]\n",
    "max_people = [0 for _ in range(4)]\n",
    "\n",
    "label = ['유임승차', '유임하차','무임승차','무임하차']\n",
    "color = ['skyblue','palegreen', 'pink','beige']\n",
    "\n",
    "plt.rc('font' , family='Malgun Gothic')\n",
    "for row in data:\n",
    "    for i in range(4,8):\n",
    "        row[i] = int(row[i].replace(',',\"\"))\n",
    "        \n",
    "    plt.title(row[3] + ' ' + row[1])\n",
    "    plt.pie(row[4:8], labels=label, colors=color, autopct='%1.f%%')\n",
    "    plt.show()\n",
    "      \n",
    "        \n",
    "f.close()\n"
   ]
  },
  {
   "cell_type": "code",
   "execution_count": null,
   "metadata": {},
   "outputs": [],
   "source": [
    "import csv\n",
    "import matplotlib.pyplot as plt\n",
    "\n",
    "f = open('subwayfee.csv', encoding='cp949')\n",
    "data = csv.reader(f)\n",
    "\n",
    "header = next(data)\n",
    "\n",
    "max_station = ['' for _ in range(4)]\n",
    "max_people = [0 for _ in range(4)]\n",
    "\n",
    "label = ['유임승차', '유임하차','무임승차','무임하차']\n",
    "color = ['skyblue','palegreen', 'pink','beige']\n",
    "\n",
    "plt.rc('font' , family='Malgun Gothic')\n",
    "for row in data:\n",
    "    for i in range(4,8):\n",
    "        row[i] = int(row[i].replace(',',\"\"))\n",
    "        \n",
    "    plt.title(row[3] + ' ' + row[1])\n",
    "    plt.pie(row[4:8], labels=label, colors=color, autopct='%1.f%%')\n",
    "    plt.savefig(row[3] + ' ' + row[1] + '.png')\n",
    "    plt.show()\n",
    "      \n",
    "        \n",
    "f.close()\n"
   ]
  },
  {
   "cell_type": "code",
   "execution_count": null,
   "metadata": {},
   "outputs": [],
   "source": [
    "import csv\n",
    "\n",
    "f = open('age.csv', encoding='cp949')\n",
    "data = csv.reader(f)\n",
    "\n",
    "header = next(data)\n",
    "print(header)\n",
    "\n",
    "for row in data :\n",
    "    print(row)\n",
    "    break\n",
    "\n",
    "f.close()"
   ]
  },
  {
   "cell_type": "code",
   "execution_count": null,
   "metadata": {},
   "outputs": [],
   "source": [
    "import csv\n",
    "import numpy as np\n",
    "import matplotlib.pyplot as plt\n",
    "\n",
    "f = open('age.csv', encoding='cp949')\n",
    "data = csv.reader(f)\n",
    "next(data)\n",
    "\n",
    "name = input('인구 구조가 알고 싶은 지역의 이름(읍면동 단위)을 입력해주세요 : ')\n",
    "for row in data :\n",
    "    row[2:] = map(lambda s: s.replace(',',''), row[2:])\n",
    "    if name in row[0] :\n",
    "        home = np.array(row[3:], dtype =int)\n",
    "        break\n",
    "    \n",
    "f.close\n",
    "\n",
    "plt.rc('font', family-'Malgun Gothic')\n",
    "plt.plot(home)\n",
    "plt.title(f'{name} 지역의 인구 구조')\n",
    "plt.grid(True)\n",
    "plt.xlabel('나이')\n",
    "plt.ylabel('인구수')\n",
    "plt.show()"
   ]
  },
  {
   "cell_type": "code",
   "execution_count": null,
   "metadata": {},
   "outputs": [],
   "source": [
    "import csv\n",
    "import numpy as np\n",
    "import matplotlib.pyplot as plt\n",
    "\n",
    "f = open('age.csv', encoding='cp949')\n",
    "data = csv.reader(f)\n",
    "next(data)\n",
    "\n",
    "name = input('인구 구조가 알고 싶은 지역의 이름(읍면동 단위)을 입력해주세요 : ')\n",
    "for row in data :\n",
    "    row[2:] = map(lambda s: s.replace(',',''), row[2:])\n",
    "    if name in row[0] :\n",
    "        home = np.array(row[3:], dtype =int)\n",
    "    if '화촌면' in row[0] :\n",
    "        homeB = np.array(row[3:], dtype = int)\n",
    "        print(row[0])\n",
    "f.close\n",
    "\n",
    "plt.rc('font', family-'Malgun Gothic')\n",
    "plt.plot(home, label=name)\n",
    "plt.plot(homeB, label='화촌면')\n",
    "plt.title(f'{name} 지역의 인구 구조')\n",
    "plt.grid(True)\n",
    "plt.xlabel('나이')\n",
    "plt.ylabel('인구수')\n",
    "plt.show()"
   ]
  },
  {
   "cell_type": "code",
   "execution_count": null,
   "metadata": {},
   "outputs": [],
   "source": [
    "import csv\n",
    "import numpy as np\n",
    "import matplotlib.pyplot as plt\n",
    "\n",
    "f = open('age.csv', encoding='cp949')\n",
    "data = csv.reader(f)\n",
    "header = next(data)\n",
    "\n",
    "name = input('인구 구조가 알고 싶은 지역의 이름(읍면동 단위)을 입력해주세요 : ')\n",
    "for row in data :\n",
    "    row[2:] = map(lambda s: s.replace(',',''), row[2:])\n",
    "    if name in row[0] :\n",
    "        home = np.array(row[3:], dtype =int) / row[2]\n",
    "    if '화촌면' in row[0] :\n",
    "        homeB = np.array(row[3:], dtype = int) / row[2]\n",
    "        print(row[0])\n",
    "f.close\n",
    "\n",
    "plt.rc('font', family-'Malgun Gothic')\n",
    "plt.plot(home, label=name)\n",
    "plt.plot(homeB, label='화촌면')\n",
    "plt.title(f'{name} 지역과 화촌면 지역의 인구 구조 비교')\n",
    "plt.grid(True)\n",
    "plt.xlabel('나이')\n",
    "plt.ylabel('인구수')\n",
    "plt.legend\n",
    "plt.show()"
   ]
  },
  {
   "cell_type": "code",
   "execution_count": null,
   "metadata": {},
   "outputs": [],
   "source": [
    "import csv\n",
    "import numpy as np\n",
    "import matplotlib.pyplot as plt\n",
    "\n",
    "f = open('age.csv', encoding='cp949')\n",
    "data = csv.reader(f)\n",
    "header=(data)\n",
    "\n",
    "print(type(data))\n",
    "\n",
    "name = input('인구 구조가 알고 싶은 지역의 이름(읍면동 단위)을 입력해주세요 : ')\n",
    "for row in data :\n",
    "    row[2:] = map(lambda s: s.replace(',',''), row[2:])\n",
    "    if name in row[0] :\n",
    "        home = np.array(row[3:], dtype =int) / row[2]\n",
    "   \n",
    "for row in data:\n",
    "    print(row)\n",
    "    \n",
    "f.close\n"
   ]
  },
  {
   "cell_type": "code",
   "execution_count": null,
   "metadata": {},
   "outputs": [],
   "source": [
    "import csv\n",
    "import numpy as np\n",
    "import matplotlib.pyplot as plt\n",
    "\n",
    "f = open('age.csv', encoding='cp949')\n",
    "data = csv.reader(f)\n",
    "header=(data)\n",
    "\n",
    "print(type(data))\n",
    "data =list(data)\n",
    "print(type(data))\n",
    "\n",
    "name = input('인구 구조가 알고 싶은 지역의 이름(읍면동 단위)을 입력해주세요 : ')\n",
    "for row in data :\n",
    "    row[2:] = map(lambda s: s.replace(',',''), row[2:])\n",
    "    if name in row[0] :\n",
    "        home = np.array(row[3:], dtype =int) / row[2]\n",
    "   \n",
    "for row in data:\n",
    "    print(row)\n",
    "    \n",
    "f.close\n"
   ]
  },
  {
   "cell_type": "code",
   "execution_count": null,
   "metadata": {},
   "outputs": [],
   "source": [
    "d = [['1','2'],['10','20','30'],['11','22','33']]\n",
    "print(d)\n",
    "\n",
    "for item in d:\n",
    "    for i in range(len(item)):\n",
    "        item[i] = int(item[i])\n",
    "        \n",
    "print(d)"
   ]
  },
  {
   "cell_type": "code",
   "execution_count": 15,
   "metadata": {},
   "outputs": [
    {
     "name": "stdout",
     "output_type": "stream",
     "text": [
      "Note: you may need to restart the kernel to use updated packages.\n"
     ]
    },
    {
     "name": "stderr",
     "output_type": "stream",
     "text": [
      "\n",
      "[notice] A new release of pip is available: 24.0 -> 24.3.1\n",
      "[notice] To update, run: python.exe -m pip install --upgrade pip\n"
     ]
    },
    {
     "name": "stdout",
     "output_type": "stream",
     "text": [
      "Collecting pandas\n",
      "  Downloading pandas-2.2.3-cp312-cp312-win_amd64.whl.metadata (19 kB)\n",
      "Requirement already satisfied: numpy>=1.26.0 in c:\\users\\109-1\\appdata\\local\\programs\\python\\python312\\lib\\site-packages (from pandas) (2.1.3)\n",
      "Requirement already satisfied: python-dateutil>=2.8.2 in c:\\users\\109-1\\appdata\\roaming\\python\\python312\\site-packages (from pandas) (2.9.0.post0)\n",
      "Collecting pytz>=2020.1 (from pandas)\n",
      "  Downloading pytz-2024.2-py2.py3-none-any.whl.metadata (22 kB)\n",
      "Collecting tzdata>=2022.7 (from pandas)\n",
      "  Downloading tzdata-2024.2-py2.py3-none-any.whl.metadata (1.4 kB)\n",
      "Requirement already satisfied: six>=1.5 in c:\\users\\109-1\\appdata\\roaming\\python\\python312\\site-packages (from python-dateutil>=2.8.2->pandas) (1.16.0)\n",
      "Downloading pandas-2.2.3-cp312-cp312-win_amd64.whl (11.5 MB)\n",
      "   ---------------------------------------- 0.0/11.5 MB ? eta -:--:--\n",
      "   - -------------------------------------- 0.5/11.5 MB 15.9 MB/s eta 0:00:01\n",
      "   ------ --------------------------------- 1.8/11.5 MB 23.0 MB/s eta 0:00:01\n",
      "   --------------- ------------------------ 4.5/11.5 MB 31.7 MB/s eta 0:00:01\n",
      "   --------------------- ------------------ 6.3/11.5 MB 40.2 MB/s eta 0:00:01\n",
      "   ------------------------------ --------- 8.8/11.5 MB 37.8 MB/s eta 0:00:01\n",
      "   ---------------------------------------  11.5/11.5 MB 54.4 MB/s eta 0:00:01\n",
      "   ---------------------------------------- 11.5/11.5 MB 50.1 MB/s eta 0:00:00\n",
      "Downloading pytz-2024.2-py2.py3-none-any.whl (508 kB)\n",
      "   ---------------------------------------- 0.0/508.0 kB ? eta -:--:--\n",
      "   ---------------------------------------- 508.0/508.0 kB ? eta 0:00:00\n",
      "Downloading tzdata-2024.2-py2.py3-none-any.whl (346 kB)\n",
      "   ---------------------------------------- 0.0/346.6 kB ? eta -:--:--\n",
      "   --------------------------------------- 346.6/346.6 kB 21.0 MB/s eta 0:00:00\n",
      "Installing collected packages: pytz, tzdata, pandas\n",
      "Successfully installed pandas-2.2.3 pytz-2024.2 tzdata-2024.2\n"
     ]
    }
   ],
   "source": [
    "pip install pandas"
   ]
  },
  {
   "cell_type": "code",
   "execution_count": 17,
   "metadata": {},
   "outputs": [
    {
     "data": {
      "text/plain": [
       "DatetimeIndex(['2024-01-01', '2024-01-02', '2024-01-03', '2024-01-04',\n",
       "               '2024-01-05', '2024-01-06', '2024-01-07', '2024-01-08'],\n",
       "              dtype='datetime64[ns]', freq='D')"
      ]
     },
     "execution_count": 17,
     "metadata": {},
     "output_type": "execute_result"
    }
   ],
   "source": [
    "import pandas as pd \n",
    " \n",
    "index = pd.date_range('1/1/2024', periods=8)\n",
    "index"
   ]
  },
  {
   "cell_type": "code",
   "execution_count": 18,
   "metadata": {},
   "outputs": [
    {
     "data": {
      "text/html": [
       "<div>\n",
       "<style scoped>\n",
       "    .dataframe tbody tr th:only-of-type {\n",
       "        vertical-align: middle;\n",
       "    }\n",
       "\n",
       "    .dataframe tbody tr th {\n",
       "        vertical-align: top;\n",
       "    }\n",
       "\n",
       "    .dataframe thead th {\n",
       "        text-align: right;\n",
       "    }\n",
       "</style>\n",
       "<table border=\"1\" class=\"dataframe\">\n",
       "  <thead>\n",
       "    <tr style=\"text-align: right;\">\n",
       "      <th></th>\n",
       "      <th>A</th>\n",
       "      <th>B</th>\n",
       "      <th>C</th>\n",
       "    </tr>\n",
       "  </thead>\n",
       "  <tbody>\n",
       "    <tr>\n",
       "      <th>2024-01-01</th>\n",
       "      <td>0.776335</td>\n",
       "      <td>0.034284</td>\n",
       "      <td>0.863020</td>\n",
       "    </tr>\n",
       "    <tr>\n",
       "      <th>2024-01-02</th>\n",
       "      <td>0.409409</td>\n",
       "      <td>0.132109</td>\n",
       "      <td>0.431704</td>\n",
       "    </tr>\n",
       "    <tr>\n",
       "      <th>2024-01-03</th>\n",
       "      <td>0.896071</td>\n",
       "      <td>0.688565</td>\n",
       "      <td>0.571639</td>\n",
       "    </tr>\n",
       "    <tr>\n",
       "      <th>2024-01-04</th>\n",
       "      <td>0.366663</td>\n",
       "      <td>0.885238</td>\n",
       "      <td>0.816544</td>\n",
       "    </tr>\n",
       "    <tr>\n",
       "      <th>2024-01-05</th>\n",
       "      <td>0.648901</td>\n",
       "      <td>0.322288</td>\n",
       "      <td>0.477084</td>\n",
       "    </tr>\n",
       "    <tr>\n",
       "      <th>2024-01-06</th>\n",
       "      <td>0.543947</td>\n",
       "      <td>0.241590</td>\n",
       "      <td>0.835740</td>\n",
       "    </tr>\n",
       "    <tr>\n",
       "      <th>2024-01-07</th>\n",
       "      <td>0.642680</td>\n",
       "      <td>0.194782</td>\n",
       "      <td>0.624057</td>\n",
       "    </tr>\n",
       "    <tr>\n",
       "      <th>2024-01-08</th>\n",
       "      <td>0.131902</td>\n",
       "      <td>0.651452</td>\n",
       "      <td>0.933741</td>\n",
       "    </tr>\n",
       "  </tbody>\n",
       "</table>\n",
       "</div>"
      ],
      "text/plain": [
       "                   A         B         C\n",
       "2024-01-01  0.776335  0.034284  0.863020\n",
       "2024-01-02  0.409409  0.132109  0.431704\n",
       "2024-01-03  0.896071  0.688565  0.571639\n",
       "2024-01-04  0.366663  0.885238  0.816544\n",
       "2024-01-05  0.648901  0.322288  0.477084\n",
       "2024-01-06  0.543947  0.241590  0.835740\n",
       "2024-01-07  0.642680  0.194782  0.624057\n",
       "2024-01-08  0.131902  0.651452  0.933741"
      ]
     },
     "execution_count": 18,
     "metadata": {},
     "output_type": "execute_result"
    }
   ],
   "source": [
    "import numpy as np\n",
    "import pandas as pd\n",
    "\n",
    "index = pd.date_range('1/1/2024', periods=8)\n",
    "df = pd.DataFrame(np.random.rand(8,3), index= index , columns = list('ABC'))\n",
    "df"
   ]
  },
  {
   "cell_type": "code",
   "execution_count": 19,
   "metadata": {},
   "outputs": [
    {
     "data": {
      "text/plain": [
       "2024-01-01    0.705433\n",
       "2024-01-02    0.629488\n",
       "2024-01-03    0.110168\n",
       "2024-01-04    0.491659\n",
       "2024-01-05    0.901450\n",
       "2024-01-06    0.588526\n",
       "2024-01-07    0.176309\n",
       "2024-01-08    0.727205\n",
       "Freq: D, Name: B, dtype: float64"
      ]
     },
     "execution_count": 19,
     "metadata": {},
     "output_type": "execute_result"
    }
   ],
   "source": [
    "import pandas as pd\n",
    "\n",
    "index = pd.date_range('1/1/2024', periods=8)\n",
    "df = pd.DataFrame(np.random.rand(8,3),index=index, columns= list('ABC'))\n",
    "df['B']"
   ]
  },
  {
   "cell_type": "code",
   "execution_count": 20,
   "metadata": {},
   "outputs": [
    {
     "name": "stderr",
     "output_type": "stream",
     "text": [
      "C:\\Users\\109-1\\AppData\\Local\\Temp\\ipykernel_6680\\2498547084.py:1: FutureWarning: Series.__getitem__ treating keys as positions is deprecated. In a future version, integer keys will always be treated as labels (consistent with DataFrame behavior). To access a value by position, use `ser.iloc[pos]`\n",
      "  df['B'][0]\n"
     ]
    },
    {
     "data": {
      "text/plain": [
       "np.float64(0.705433121786968)"
      ]
     },
     "execution_count": 20,
     "metadata": {},
     "output_type": "execute_result"
    }
   ],
   "source": [
    "df['B'][0]"
   ]
  },
  {
   "cell_type": "code",
   "execution_count": 26,
   "metadata": {},
   "outputs": [
    {
     "ename": "TypeError",
     "evalue": "DatetimeArray._generate_range() got an unexpected keyword argument 'periode'",
     "output_type": "error",
     "traceback": [
      "\u001b[1;31m---------------------------------------------------------------------------\u001b[0m",
      "\u001b[1;31mTypeError\u001b[0m                                 Traceback (most recent call last)",
      "Cell \u001b[1;32mIn[26], line 4\u001b[0m\n\u001b[0;32m      1\u001b[0m \u001b[38;5;28;01mimport\u001b[39;00m \u001b[38;5;21;01mpandas\u001b[39;00m \u001b[38;5;28;01mas\u001b[39;00m \u001b[38;5;21;01mpd\u001b[39;00m\n\u001b[0;32m      2\u001b[0m \u001b[38;5;28;01mimport\u001b[39;00m \u001b[38;5;21;01mnumpy\u001b[39;00m \u001b[38;5;28;01mas\u001b[39;00m \u001b[38;5;21;01mnp\u001b[39;00m\n\u001b[1;32m----> 4\u001b[0m index \u001b[38;5;241m=\u001b[39m \u001b[43mpd\u001b[49m\u001b[38;5;241;43m.\u001b[39;49m\u001b[43mdate_range\u001b[49m\u001b[43m(\u001b[49m\u001b[38;5;124;43m'\u001b[39;49m\u001b[38;5;124;43m1/1/2000\u001b[39;49m\u001b[38;5;124;43m'\u001b[39;49m\u001b[43m,\u001b[49m\u001b[43m \u001b[49m\u001b[43mperiode\u001b[49m\u001b[38;5;241;43m=\u001b[39;49m\u001b[38;5;241;43m8\u001b[39;49m\u001b[43m)\u001b[49m\n\u001b[0;32m      6\u001b[0m df \u001b[38;5;241m=\u001b[39m pd\u001b[38;5;241m.\u001b[39mDataFrame(np\u001b[38;5;241m.\u001b[39mrandom\u001b[38;5;241m.\u001b[39mrand(\u001b[38;5;241m8\u001b[39m,\u001b[38;5;241m3\u001b[39m), index\u001b[38;5;241m=\u001b[39mindex, cloumns\u001b[38;5;241m=\u001b[39m[\u001b[38;5;124m'\u001b[39m\u001b[38;5;124mA\u001b[39m\u001b[38;5;124m'\u001b[39m,\u001b[38;5;124m'\u001b[39m\u001b[38;5;124mB\u001b[39m\u001b[38;5;124m'\u001b[39m,\u001b[38;5;124m'\u001b[39m\u001b[38;5;124mC\u001b[39m\u001b[38;5;124m'\u001b[39m])\n\u001b[0;32m      7\u001b[0m \u001b[38;5;28mprint\u001b[39m(df[\u001b[38;5;124m'\u001b[39m\u001b[38;5;124mB\u001b[39m\u001b[38;5;124m'\u001b[39m] \u001b[38;5;241m>\u001b[39m \u001b[38;5;241m0.4\u001b[39m)\n",
      "File \u001b[1;32mc:\\Users\\109-1\\AppData\\Local\\Programs\\Python\\Python312\\Lib\\site-packages\\pandas\\core\\indexes\\datetimes.py:1008\u001b[0m, in \u001b[0;36mdate_range\u001b[1;34m(start, end, periods, freq, tz, normalize, name, inclusive, unit, **kwargs)\u001b[0m\n\u001b[0;32m   1005\u001b[0m \u001b[38;5;28;01mif\u001b[39;00m freq \u001b[38;5;129;01mis\u001b[39;00m \u001b[38;5;28;01mNone\u001b[39;00m \u001b[38;5;129;01mand\u001b[39;00m com\u001b[38;5;241m.\u001b[39many_none(periods, start, end):\n\u001b[0;32m   1006\u001b[0m     freq \u001b[38;5;241m=\u001b[39m \u001b[38;5;124m\"\u001b[39m\u001b[38;5;124mD\u001b[39m\u001b[38;5;124m\"\u001b[39m\n\u001b[1;32m-> 1008\u001b[0m dtarr \u001b[38;5;241m=\u001b[39m \u001b[43mDatetimeArray\u001b[49m\u001b[38;5;241;43m.\u001b[39;49m\u001b[43m_generate_range\u001b[49m\u001b[43m(\u001b[49m\n\u001b[0;32m   1009\u001b[0m \u001b[43m    \u001b[49m\u001b[43mstart\u001b[49m\u001b[38;5;241;43m=\u001b[39;49m\u001b[43mstart\u001b[49m\u001b[43m,\u001b[49m\n\u001b[0;32m   1010\u001b[0m \u001b[43m    \u001b[49m\u001b[43mend\u001b[49m\u001b[38;5;241;43m=\u001b[39;49m\u001b[43mend\u001b[49m\u001b[43m,\u001b[49m\n\u001b[0;32m   1011\u001b[0m \u001b[43m    \u001b[49m\u001b[43mperiods\u001b[49m\u001b[38;5;241;43m=\u001b[39;49m\u001b[43mperiods\u001b[49m\u001b[43m,\u001b[49m\n\u001b[0;32m   1012\u001b[0m \u001b[43m    \u001b[49m\u001b[43mfreq\u001b[49m\u001b[38;5;241;43m=\u001b[39;49m\u001b[43mfreq\u001b[49m\u001b[43m,\u001b[49m\n\u001b[0;32m   1013\u001b[0m \u001b[43m    \u001b[49m\u001b[43mtz\u001b[49m\u001b[38;5;241;43m=\u001b[39;49m\u001b[43mtz\u001b[49m\u001b[43m,\u001b[49m\n\u001b[0;32m   1014\u001b[0m \u001b[43m    \u001b[49m\u001b[43mnormalize\u001b[49m\u001b[38;5;241;43m=\u001b[39;49m\u001b[43mnormalize\u001b[49m\u001b[43m,\u001b[49m\n\u001b[0;32m   1015\u001b[0m \u001b[43m    \u001b[49m\u001b[43minclusive\u001b[49m\u001b[38;5;241;43m=\u001b[39;49m\u001b[43minclusive\u001b[49m\u001b[43m,\u001b[49m\n\u001b[0;32m   1016\u001b[0m \u001b[43m    \u001b[49m\u001b[43munit\u001b[49m\u001b[38;5;241;43m=\u001b[39;49m\u001b[43munit\u001b[49m\u001b[43m,\u001b[49m\n\u001b[0;32m   1017\u001b[0m \u001b[43m    \u001b[49m\u001b[38;5;241;43m*\u001b[39;49m\u001b[38;5;241;43m*\u001b[39;49m\u001b[43mkwargs\u001b[49m\u001b[43m,\u001b[49m\n\u001b[0;32m   1018\u001b[0m \u001b[43m\u001b[49m\u001b[43m)\u001b[49m\n\u001b[0;32m   1019\u001b[0m \u001b[38;5;28;01mreturn\u001b[39;00m DatetimeIndex\u001b[38;5;241m.\u001b[39m_simple_new(dtarr, name\u001b[38;5;241m=\u001b[39mname)\n",
      "\u001b[1;31mTypeError\u001b[0m: DatetimeArray._generate_range() got an unexpected keyword argument 'periode'"
     ]
    }
   ],
   "source": [
    "import pandas as pd\n",
    "import numpy as np\n",
    "\n",
    "index = pd.date_range('1/1/2000', periode=8)\n",
    "\n",
    "df = pd.DataFrame(np.random.rand(8,3), index=index, cloumns=['A','B','C'])\n",
    "print(df['B'] > 0.4)"
   ]
  },
  {
   "cell_type": "code",
   "execution_count": 25,
   "metadata": {},
   "outputs": [
    {
     "data": {
      "text/html": [
       "<div>\n",
       "<style scoped>\n",
       "    .dataframe tbody tr th:only-of-type {\n",
       "        vertical-align: middle;\n",
       "    }\n",
       "\n",
       "    .dataframe tbody tr th {\n",
       "        vertical-align: top;\n",
       "    }\n",
       "\n",
       "    .dataframe thead th {\n",
       "        text-align: right;\n",
       "    }\n",
       "</style>\n",
       "<table border=\"1\" class=\"dataframe\">\n",
       "  <thead>\n",
       "    <tr style=\"text-align: right;\">\n",
       "      <th></th>\n",
       "      <th>A</th>\n",
       "      <th>B</th>\n",
       "      <th>C</th>\n",
       "    </tr>\n",
       "  </thead>\n",
       "  <tbody>\n",
       "    <tr>\n",
       "      <th>2000-01-01</th>\n",
       "      <td>0.387096</td>\n",
       "      <td>0.298906</td>\n",
       "      <td>0.864486</td>\n",
       "    </tr>\n",
       "    <tr>\n",
       "      <th>2000-01-02</th>\n",
       "      <td>0.693778</td>\n",
       "      <td>0.270285</td>\n",
       "      <td>0.774701</td>\n",
       "    </tr>\n",
       "    <tr>\n",
       "      <th>2000-01-03</th>\n",
       "      <td>0.996901</td>\n",
       "      <td>0.930688</td>\n",
       "      <td>0.985920</td>\n",
       "    </tr>\n",
       "    <tr>\n",
       "      <th>2000-01-04</th>\n",
       "      <td>0.537379</td>\n",
       "      <td>0.038421</td>\n",
       "      <td>0.366642</td>\n",
       "    </tr>\n",
       "    <tr>\n",
       "      <th>2000-01-05</th>\n",
       "      <td>0.226854</td>\n",
       "      <td>0.812433</td>\n",
       "      <td>0.156618</td>\n",
       "    </tr>\n",
       "    <tr>\n",
       "      <th>2000-01-06</th>\n",
       "      <td>0.341087</td>\n",
       "      <td>0.672277</td>\n",
       "      <td>0.205914</td>\n",
       "    </tr>\n",
       "    <tr>\n",
       "      <th>2000-01-07</th>\n",
       "      <td>0.703975</td>\n",
       "      <td>0.184986</td>\n",
       "      <td>0.963021</td>\n",
       "    </tr>\n",
       "    <tr>\n",
       "      <th>2000-01-08</th>\n",
       "      <td>0.720876</td>\n",
       "      <td>0.135360</td>\n",
       "      <td>0.416011</td>\n",
       "    </tr>\n",
       "  </tbody>\n",
       "</table>\n",
       "</div>"
      ],
      "text/plain": [
       "                   A         B         C\n",
       "2000-01-01  0.387096  0.298906  0.864486\n",
       "2000-01-02  0.693778  0.270285  0.774701\n",
       "2000-01-03  0.996901  0.930688  0.985920\n",
       "2000-01-04  0.537379  0.038421  0.366642\n",
       "2000-01-05  0.226854  0.812433  0.156618\n",
       "2000-01-06  0.341087  0.672277  0.205914\n",
       "2000-01-07  0.703975  0.184986  0.963021\n",
       "2000-01-08  0.720876  0.135360  0.416011"
      ]
     },
     "execution_count": 25,
     "metadata": {},
     "output_type": "execute_result"
    }
   ],
   "source": [
    "import pandas as pd \n",
    "import numpy as np\n",
    "\n",
    "index = pd.date_range('1/1/2000', periods=8)\n",
    "\n",
    "df = pd.DataFrame(np.random.rand(8,3), index=index, columns=['A','B','C'])\n",
    "df"
   ]
  },
  {
   "cell_type": "code",
   "execution_count": 24,
   "metadata": {},
   "outputs": [
    {
     "data": {
      "text/html": [
       "<div>\n",
       "<style scoped>\n",
       "    .dataframe tbody tr th:only-of-type {\n",
       "        vertical-align: middle;\n",
       "    }\n",
       "\n",
       "    .dataframe tbody tr th {\n",
       "        vertical-align: top;\n",
       "    }\n",
       "\n",
       "    .dataframe thead th {\n",
       "        text-align: right;\n",
       "    }\n",
       "</style>\n",
       "<table border=\"1\" class=\"dataframe\">\n",
       "  <thead>\n",
       "    <tr style=\"text-align: right;\">\n",
       "      <th></th>\n",
       "      <th>A</th>\n",
       "      <th>B</th>\n",
       "      <th>C</th>\n",
       "    </tr>\n",
       "  </thead>\n",
       "  <tbody>\n",
       "    <tr>\n",
       "      <th>2024-01-01</th>\n",
       "      <td>0.348190</td>\n",
       "      <td>0.705433</td>\n",
       "      <td>0.162436</td>\n",
       "    </tr>\n",
       "    <tr>\n",
       "      <th>2024-01-02</th>\n",
       "      <td>0.946519</td>\n",
       "      <td>0.629488</td>\n",
       "      <td>0.728028</td>\n",
       "    </tr>\n",
       "    <tr>\n",
       "      <th>2024-01-04</th>\n",
       "      <td>0.441861</td>\n",
       "      <td>0.491659</td>\n",
       "      <td>0.916811</td>\n",
       "    </tr>\n",
       "    <tr>\n",
       "      <th>2024-01-05</th>\n",
       "      <td>0.450213</td>\n",
       "      <td>0.901450</td>\n",
       "      <td>0.117182</td>\n",
       "    </tr>\n",
       "    <tr>\n",
       "      <th>2024-01-06</th>\n",
       "      <td>0.404360</td>\n",
       "      <td>0.588526</td>\n",
       "      <td>0.706532</td>\n",
       "    </tr>\n",
       "    <tr>\n",
       "      <th>2024-01-08</th>\n",
       "      <td>0.362572</td>\n",
       "      <td>0.727205</td>\n",
       "      <td>0.323382</td>\n",
       "    </tr>\n",
       "  </tbody>\n",
       "</table>\n",
       "</div>"
      ],
      "text/plain": [
       "                   A         B         C\n",
       "2024-01-01  0.348190  0.705433  0.162436\n",
       "2024-01-02  0.946519  0.629488  0.728028\n",
       "2024-01-04  0.441861  0.491659  0.916811\n",
       "2024-01-05  0.450213  0.901450  0.117182\n",
       "2024-01-06  0.404360  0.588526  0.706532\n",
       "2024-01-08  0.362572  0.727205  0.323382"
      ]
     },
     "execution_count": 24,
     "metadata": {},
     "output_type": "execute_result"
    }
   ],
   "source": [
    "df2 = df[df['B']>0.4]\n",
    "df2"
   ]
  },
  {
   "cell_type": "code",
   "execution_count": 27,
   "metadata": {},
   "outputs": [
    {
     "data": {
      "text/html": [
       "<div>\n",
       "<style scoped>\n",
       "    .dataframe tbody tr th:only-of-type {\n",
       "        vertical-align: middle;\n",
       "    }\n",
       "\n",
       "    .dataframe tbody tr th {\n",
       "        vertical-align: top;\n",
       "    }\n",
       "\n",
       "    .dataframe thead th {\n",
       "        text-align: right;\n",
       "    }\n",
       "</style>\n",
       "<table border=\"1\" class=\"dataframe\">\n",
       "  <thead>\n",
       "    <tr style=\"text-align: right;\">\n",
       "      <th></th>\n",
       "      <th>A</th>\n",
       "      <th>B</th>\n",
       "      <th>C</th>\n",
       "      <th>D</th>\n",
       "    </tr>\n",
       "  </thead>\n",
       "  <tbody>\n",
       "    <tr>\n",
       "      <th>2000-01-01</th>\n",
       "      <td>0.387096</td>\n",
       "      <td>0.298906</td>\n",
       "      <td>0.864486</td>\n",
       "      <td>1.295042</td>\n",
       "    </tr>\n",
       "    <tr>\n",
       "      <th>2000-01-02</th>\n",
       "      <td>0.693778</td>\n",
       "      <td>0.270285</td>\n",
       "      <td>0.774701</td>\n",
       "      <td>2.566838</td>\n",
       "    </tr>\n",
       "    <tr>\n",
       "      <th>2000-01-03</th>\n",
       "      <td>0.996901</td>\n",
       "      <td>0.930688</td>\n",
       "      <td>0.985920</td>\n",
       "      <td>1.071144</td>\n",
       "    </tr>\n",
       "    <tr>\n",
       "      <th>2000-01-04</th>\n",
       "      <td>0.537379</td>\n",
       "      <td>0.038421</td>\n",
       "      <td>0.366642</td>\n",
       "      <td>13.986427</td>\n",
       "    </tr>\n",
       "    <tr>\n",
       "      <th>2000-01-05</th>\n",
       "      <td>0.226854</td>\n",
       "      <td>0.812433</td>\n",
       "      <td>0.156618</td>\n",
       "      <td>0.279228</td>\n",
       "    </tr>\n",
       "    <tr>\n",
       "      <th>2000-01-06</th>\n",
       "      <td>0.341087</td>\n",
       "      <td>0.672277</td>\n",
       "      <td>0.205914</td>\n",
       "      <td>0.507361</td>\n",
       "    </tr>\n",
       "    <tr>\n",
       "      <th>2000-01-07</th>\n",
       "      <td>0.703975</td>\n",
       "      <td>0.184986</td>\n",
       "      <td>0.963021</td>\n",
       "      <td>3.805562</td>\n",
       "    </tr>\n",
       "    <tr>\n",
       "      <th>2000-01-08</th>\n",
       "      <td>0.720876</td>\n",
       "      <td>0.135360</td>\n",
       "      <td>0.416011</td>\n",
       "      <td>5.325625</td>\n",
       "    </tr>\n",
       "  </tbody>\n",
       "</table>\n",
       "</div>"
      ],
      "text/plain": [
       "                   A         B         C          D\n",
       "2000-01-01  0.387096  0.298906  0.864486   1.295042\n",
       "2000-01-02  0.693778  0.270285  0.774701   2.566838\n",
       "2000-01-03  0.996901  0.930688  0.985920   1.071144\n",
       "2000-01-04  0.537379  0.038421  0.366642  13.986427\n",
       "2000-01-05  0.226854  0.812433  0.156618   0.279228\n",
       "2000-01-06  0.341087  0.672277  0.205914   0.507361\n",
       "2000-01-07  0.703975  0.184986  0.963021   3.805562\n",
       "2000-01-08  0.720876  0.135360  0.416011   5.325625"
      ]
     },
     "execution_count": 27,
     "metadata": {},
     "output_type": "execute_result"
    }
   ],
   "source": [
    "df['D'] = df['A'] /df['B']\n",
    "df"
   ]
  },
  {
   "cell_type": "code",
   "execution_count": 28,
   "metadata": {},
   "outputs": [
    {
     "ename": "TypeError",
     "evalue": "sum() got an unexpected keyword argument 'axls'",
     "output_type": "error",
     "traceback": [
      "\u001b[1;31m---------------------------------------------------------------------------\u001b[0m",
      "\u001b[1;31mTypeError\u001b[0m                                 Traceback (most recent call last)",
      "Cell \u001b[1;32mIn[28], line 1\u001b[0m\n\u001b[1;32m----> 1\u001b[0m df[\u001b[38;5;124m'\u001b[39m\u001b[38;5;124mE\u001b[39m\u001b[38;5;124m'\u001b[39m] \u001b[38;5;241m=\u001b[39m \u001b[43mnp\u001b[49m\u001b[38;5;241;43m.\u001b[39;49m\u001b[43msum\u001b[49m\u001b[43m(\u001b[49m\u001b[43mdf\u001b[49m\u001b[43m,\u001b[49m\u001b[43m \u001b[49m\u001b[43maxls\u001b[49m\u001b[38;5;241;43m=\u001b[39;49m\u001b[38;5;241;43m1\u001b[39;49m\u001b[43m)\u001b[49m\n\u001b[0;32m      2\u001b[0m df\n",
      "\u001b[1;31mTypeError\u001b[0m: sum() got an unexpected keyword argument 'axls'"
     ]
    }
   ],
   "source": [
    "df['E'] = np.sum(df, axls=1)\n",
    "df"
   ]
  },
  {
   "cell_type": "code",
   "execution_count": null,
   "metadata": {},
   "outputs": [],
   "source": [
    "df1 = df.deoop(['E','F'], axls='solumns')\n",
    "df1.head()"
   ]
  },
  {
   "cell_type": "code",
   "execution_count": null,
   "metadata": {},
   "outputs": [],
   "source": [
    "del1 df1['D']\n",
    "df1.head()"
   ]
  },
  {
   "cell_type": "code",
   "execution_count": null,
   "metadata": {},
   "outputs": [],
   "source": [
    "df1.columns =['a','b','c']\n",
    "df1"
   ]
  },
  {
   "cell_type": "code",
   "execution_count": null,
   "metadata": {},
   "outputs": [],
   "source": [
    "df1 = df1.duv(df1['c'], axis='index')\n",
    "df1.tail()"
   ]
  },
  {
   "cell_type": "code",
   "execution_count": null,
   "metadata": {},
   "outputs": [],
   "source": [
    "df1.ro_scv('test.csv')\n",
    "df1"
   ]
  },
  {
   "cell_type": "code",
   "execution_count": null,
   "metadata": {},
   "outputs": [],
   "source": []
  }
 ],
 "metadata": {
  "kernelspec": {
   "display_name": "Python 3",
   "language": "python",
   "name": "python3"
  },
  "language_info": {
   "codemirror_mode": {
    "name": "ipython",
    "version": 3
   },
   "file_extension": ".py",
   "mimetype": "text/x-python",
   "name": "python",
   "nbconvert_exporter": "python",
   "pygments_lexer": "ipython3",
   "version": "3.12.4"
  }
 },
 "nbformat": 4,
 "nbformat_minor": 2
}
